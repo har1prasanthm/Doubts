{
 "cells": [
  {
   "cell_type": "code",
   "execution_count": 47,
   "id": "4c9d786b",
   "metadata": {},
   "outputs": [
    {
     "data": {
      "text/html": [
       "<div>\n",
       "<style scoped>\n",
       "    .dataframe tbody tr th:only-of-type {\n",
       "        vertical-align: middle;\n",
       "    }\n",
       "\n",
       "    .dataframe tbody tr th {\n",
       "        vertical-align: top;\n",
       "    }\n",
       "\n",
       "    .dataframe thead th {\n",
       "        text-align: right;\n",
       "    }\n",
       "</style>\n",
       "<table border=\"1\" class=\"dataframe\">\n",
       "  <thead>\n",
       "    <tr style=\"text-align: right;\">\n",
       "      <th></th>\n",
       "      <th>knowledge_begin_date</th>\n",
       "      <th>status</th>\n",
       "      <th>year</th>\n",
       "      <th>month</th>\n",
       "      <th>date</th>\n",
       "    </tr>\n",
       "  </thead>\n",
       "  <tbody>\n",
       "    <tr>\n",
       "      <th>0</th>\n",
       "      <td>2021-11-25 09:14:44.479251+00:00</td>\n",
       "      <td>Added</td>\n",
       "      <td>2021</td>\n",
       "      <td>11</td>\n",
       "      <td>2021-11-25</td>\n",
       "    </tr>\n",
       "    <tr>\n",
       "      <th>1</th>\n",
       "      <td>2022-02-24 07:08:23.360342+00:00</td>\n",
       "      <td>Added</td>\n",
       "      <td>2022</td>\n",
       "      <td>2</td>\n",
       "      <td>2022-02-24</td>\n",
       "    </tr>\n",
       "    <tr>\n",
       "      <th>2</th>\n",
       "      <td>2022-03-22 18:05:39.841862+00:00</td>\n",
       "      <td>Active</td>\n",
       "      <td>2022</td>\n",
       "      <td>3</td>\n",
       "      <td>2022-03-22</td>\n",
       "    </tr>\n",
       "    <tr>\n",
       "      <th>3</th>\n",
       "      <td>2022-03-23 10:52:28.364452+00:00</td>\n",
       "      <td>Added</td>\n",
       "      <td>2022</td>\n",
       "      <td>3</td>\n",
       "      <td>2022-03-23</td>\n",
       "    </tr>\n",
       "    <tr>\n",
       "      <th>4</th>\n",
       "      <td>2022-03-23 11:10:11.199637+00:00</td>\n",
       "      <td>Added</td>\n",
       "      <td>2022</td>\n",
       "      <td>3</td>\n",
       "      <td>2022-03-23</td>\n",
       "    </tr>\n",
       "    <tr>\n",
       "      <th>5</th>\n",
       "      <td>2022-03-25 11:52:14.925071+00:00</td>\n",
       "      <td>Added</td>\n",
       "      <td>2022</td>\n",
       "      <td>3</td>\n",
       "      <td>2022-03-25</td>\n",
       "    </tr>\n",
       "  </tbody>\n",
       "</table>\n",
       "</div>"
      ],
      "text/plain": [
       "              knowledge_begin_date  status  year  month        date\n",
       "0 2021-11-25 09:14:44.479251+00:00   Added  2021     11  2021-11-25\n",
       "1 2022-02-24 07:08:23.360342+00:00   Added  2022      2  2022-02-24\n",
       "2 2022-03-22 18:05:39.841862+00:00  Active  2022      3  2022-03-22\n",
       "3 2022-03-23 10:52:28.364452+00:00   Added  2022      3  2022-03-23\n",
       "4 2022-03-23 11:10:11.199637+00:00   Added  2022      3  2022-03-23\n",
       "5 2022-03-25 11:52:14.925071+00:00   Added  2022      3  2022-03-25"
      ]
     },
     "execution_count": 47,
     "metadata": {},
     "output_type": "execute_result"
    }
   ],
   "source": [
    "#sample data\n",
    "\n",
    "import pandas as pd\n",
    "data = {'knowledge_begin_date': ['2021-11-25 09:14:44.479251+00:00',\n",
    "                                 '2022-02-24 07:08:23.360342+00:00',\n",
    "                                 '2022-03-22 18:05:39.841862+00:00',\n",
    "                                 '2022-03-23 10:52:28.364452+00:00',\n",
    "                                 '2022-03-23 11:10:11.199637+00:00',\n",
    "                                 '2022-03-25 11:52:14.925071+00:00'], 'status': ['Added', 'Added', 'Active', 'Added', 'Added', 'Added']}\n",
    "df = pd.DataFrame(data)\n",
    "\n",
    "#converting knowledge_begin_date column to datetime format\n",
    "df['knowledge_begin_date'] = pd.to_datetime(df['knowledge_begin_date'])\n",
    "df['year'] = df['knowledge_begin_date'].dt.year\n",
    "df['month'] = df['knowledge_begin_date'].dt.month\n",
    "df['date'] = df['knowledge_begin_date'].dt.date\n",
    "\n",
    "df"
   ]
  },
  {
   "cell_type": "markdown",
   "id": "3733efdf",
   "metadata": {},
   "source": [
    "# Sample Ouput:"
   ]
  },
  {
   "cell_type": "code",
   "execution_count": null,
   "id": "02fe3448",
   "metadata": {},
   "outputs": [],
   "source": [
    "#no need to execute \n",
    "#Need a count of active and added users for each month till current date\n",
    "#sample output (should be a dict with multiple keys of year -> month -> status)\n",
    "\n",
    "{\n",
    " '2021': {'1': {'Added': 2, 'Active': 3},\n",
    "          '2': {'Added': 1, 'Active': 1},\n",
    "          '3': {'Added': 0, 'Active': 0}}, --> for missing months values should be zero \n",
    " ..\n",
    " ..\n",
    " '2022': {'3': {'Added': 0, 'Active': 0},\n",
    "          '4': {'Added': 1, 'Active': 1}}\n",
    "}"
   ]
  },
  {
   "cell_type": "code",
   "execution_count": 39,
   "id": "46e34dc5",
   "metadata": {},
   "outputs": [
    {
     "data": {
      "text/plain": [
       "year  month  status\n",
       "2021  11     Added     1\n",
       "2022  2      Added     1\n",
       "      3      Added     3\n",
       "             Active    1\n",
       "Name: status, dtype: int64"
      ]
     },
     "execution_count": 39,
     "metadata": {},
     "output_type": "execute_result"
    }
   ],
   "source": [
    "#group by year and month\n",
    "\n",
    "grp = df.groupby(['year', 'month']).status.value_counts()\n",
    "grp"
   ]
  },
  {
   "cell_type": "code",
   "execution_count": 45,
   "id": "65bebd7d",
   "metadata": {},
   "outputs": [
    {
     "data": {
      "text/plain": [
       "{(2021, 11, 'Added'): 1,\n",
       " (2022, 2, 'Added'): 1,\n",
       " (2022, 3, 'Added'): 3,\n",
       " (2022, 3, 'Active'): 1}"
      ]
     },
     "execution_count": 45,
     "metadata": {},
     "output_type": "execute_result"
    }
   ],
   "source": [
    "#if we convert the above grp to dict, it combines all the keys into one tuple like below\n",
    "#also it is not filling the missing months/years/status\n",
    "\n",
    "grp.to_dict()"
   ]
  },
  {
   "cell_type": "code",
   "execution_count": 42,
   "id": "586a027e",
   "metadata": {},
   "outputs": [],
   "source": [
    "#Tried methods\n",
    "\n",
    "#1 - Filling the missing dates and then group by months\n",
    "# since there is repeated dates, months, cannot able to fill the missing datas\n",
    "\n",
    "r = pd.date_range(start=df_copy.date.min(), end=df_copy.date.max())\n",
    "# df_copy.set_index('date').reindex(r).fillna(0.0).rename_axis('date').reset_index()"
   ]
  },
  {
   "cell_type": "code",
   "execution_count": 46,
   "id": "e442074f",
   "metadata": {},
   "outputs": [],
   "source": [
    "#2 - tried to convert to_dict() values with multiple keys but seems very complex\n",
    "\n",
    "#stack overflow\n",
    "#https://datascience.stackexchange.com/questions/49529/how-to-create-dictionary-with-multiple-keys-from-dataframe-in-python"
   ]
  },
  {
   "cell_type": "code",
   "execution_count": null,
   "id": "7ba3ee52",
   "metadata": {},
   "outputs": [],
   "source": []
  }
 ],
 "metadata": {
  "kernelspec": {
   "display_name": "Django Shell-Plus",
   "language": "python",
   "name": "django_extensions"
  },
  "language_info": {
   "codemirror_mode": {
    "name": "ipython",
    "version": 3
   },
   "file_extension": ".py",
   "mimetype": "text/x-python",
   "name": "python",
   "nbconvert_exporter": "python",
   "pygments_lexer": "ipython3",
   "version": "3.9.7"
  }
 },
 "nbformat": 4,
 "nbformat_minor": 5
}
